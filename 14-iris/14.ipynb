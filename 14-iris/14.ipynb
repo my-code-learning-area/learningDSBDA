{
 "cells": [
  {
   "cell_type": "code",
   "execution_count": 1,
   "id": "3499cef0",
   "metadata": {},
   "outputs": [],
   "source": [
    "import pandas as pd"
   ]
  },
  {
   "cell_type": "code",
   "execution_count": 2,
   "id": "de5fb410",
   "metadata": {},
   "outputs": [],
   "source": [
    "import numpy as np"
   ]
  },
  {
   "cell_type": "code",
   "execution_count": 3,
   "id": "7f7c6a97",
   "metadata": {},
   "outputs": [],
   "source": [
    "from sklearn.linear_model import LogisticRegression"
   ]
  },
  {
   "cell_type": "code",
   "execution_count": 4,
   "id": "243c9893",
   "metadata": {},
   "outputs": [],
   "source": [
    "from sklearn.naive_bayes import GaussianNB, MultinomialNB"
   ]
  },
  {
   "cell_type": "code",
   "execution_count": 10,
   "id": "ac665adc",
   "metadata": {},
   "outputs": [],
   "source": [
    "import warnings\n",
    "warnings.filterwarnings(\"ignore\")"
   ]
  },
  {
   "cell_type": "code",
   "execution_count": 50,
   "id": "800f7790",
   "metadata": {},
   "outputs": [],
   "source": [
    "from sklearn.preprocessing import StandardScaler"
   ]
  },
  {
   "cell_type": "code",
   "execution_count": 8,
   "id": "1774b82a",
   "metadata": {},
   "outputs": [],
   "source": [
    "from sklearn.metrics import accuracy_score"
   ]
  },
  {
   "cell_type": "code",
   "execution_count": 9,
   "id": "5e0002f5",
   "metadata": {},
   "outputs": [],
   "source": [
    "from sklearn.model_selection import train_test_split"
   ]
  },
  {
   "cell_type": "code",
   "execution_count": 6,
   "id": "15c5ee6d",
   "metadata": {},
   "outputs": [],
   "source": []
  },
  {
   "cell_type": "code",
   "execution_count": 125,
   "id": "ba35a869",
   "metadata": {
    "scrolled": true
   },
   "outputs": [
    {
     "data": {
      "text/html": [
       "<div>\n",
       "<style scoped>\n",
       "    .dataframe tbody tr th:only-of-type {\n",
       "        vertical-align: middle;\n",
       "    }\n",
       "\n",
       "    .dataframe tbody tr th {\n",
       "        vertical-align: top;\n",
       "    }\n",
       "\n",
       "    .dataframe thead th {\n",
       "        text-align: right;\n",
       "    }\n",
       "</style>\n",
       "<table border=\"1\" class=\"dataframe\">\n",
       "  <thead>\n",
       "    <tr style=\"text-align: right;\">\n",
       "      <th></th>\n",
       "      <th>sepal length in cm</th>\n",
       "      <th>sepal width in cm</th>\n",
       "      <th>petal length in cm</th>\n",
       "      <th>petal width in cm</th>\n",
       "      <th>class</th>\n",
       "    </tr>\n",
       "  </thead>\n",
       "  <tbody>\n",
       "    <tr>\n",
       "      <th>0</th>\n",
       "      <td>4.9</td>\n",
       "      <td>3.0</td>\n",
       "      <td>1.4</td>\n",
       "      <td>0.2</td>\n",
       "      <td>Iris-setosa</td>\n",
       "    </tr>\n",
       "    <tr>\n",
       "      <th>1</th>\n",
       "      <td>4.7</td>\n",
       "      <td>3.2</td>\n",
       "      <td>1.3</td>\n",
       "      <td>0.2</td>\n",
       "      <td>Iris-setosa</td>\n",
       "    </tr>\n",
       "    <tr>\n",
       "      <th>2</th>\n",
       "      <td>4.6</td>\n",
       "      <td>3.1</td>\n",
       "      <td>1.5</td>\n",
       "      <td>0.2</td>\n",
       "      <td>Iris-setosa</td>\n",
       "    </tr>\n",
       "    <tr>\n",
       "      <th>3</th>\n",
       "      <td>5.0</td>\n",
       "      <td>3.6</td>\n",
       "      <td>1.4</td>\n",
       "      <td>0.2</td>\n",
       "      <td>Iris-setosa</td>\n",
       "    </tr>\n",
       "    <tr>\n",
       "      <th>4</th>\n",
       "      <td>5.4</td>\n",
       "      <td>3.9</td>\n",
       "      <td>1.7</td>\n",
       "      <td>0.4</td>\n",
       "      <td>Iris-setosa</td>\n",
       "    </tr>\n",
       "  </tbody>\n",
       "</table>\n",
       "</div>"
      ],
      "text/plain": [
       "   sepal length in cm  sepal width in cm  petal length in cm   \n",
       "0                 4.9                3.0                 1.4  \\\n",
       "1                 4.7                3.2                 1.3   \n",
       "2                 4.6                3.1                 1.5   \n",
       "3                 5.0                3.6                 1.4   \n",
       "4                 5.4                3.9                 1.7   \n",
       "\n",
       "   petal width in cm        class  \n",
       "0                0.2  Iris-setosa  \n",
       "1                0.2  Iris-setosa  \n",
       "2                0.2  Iris-setosa  \n",
       "3                0.2  Iris-setosa  \n",
       "4                0.4  Iris-setosa  "
      ]
     },
     "execution_count": 125,
     "metadata": {},
     "output_type": "execute_result"
    }
   ],
   "source": [
    "df = pd.read_csv('Iris.csv')\n",
    "df.columns=['sepal length in cm', 'sepal width in cm', 'petal length in cm', 'petal width in cm', 'class']\n",
    "df.head()"
   ]
  },
  {
   "cell_type": "markdown",
   "id": "01a1edd1",
   "metadata": {},
   "source": [
    "# Remove NA, ?, negative Values"
   ]
  },
  {
   "cell_type": "code",
   "execution_count": 119,
   "id": "5fc574fa",
   "metadata": {},
   "outputs": [
    {
     "data": {
      "text/html": [
       "<div>\n",
       "<style scoped>\n",
       "    .dataframe tbody tr th:only-of-type {\n",
       "        vertical-align: middle;\n",
       "    }\n",
       "\n",
       "    .dataframe tbody tr th {\n",
       "        vertical-align: top;\n",
       "    }\n",
       "\n",
       "    .dataframe thead th {\n",
       "        text-align: right;\n",
       "    }\n",
       "</style>\n",
       "<table border=\"1\" class=\"dataframe\">\n",
       "  <thead>\n",
       "    <tr style=\"text-align: right;\">\n",
       "      <th></th>\n",
       "      <th>sepal length in cm</th>\n",
       "      <th>sepal width in cm</th>\n",
       "      <th>petal length in cm</th>\n",
       "      <th>petal width in cm</th>\n",
       "    </tr>\n",
       "  </thead>\n",
       "  <tbody>\n",
       "    <tr>\n",
       "      <th>0</th>\n",
       "      <td>4.9</td>\n",
       "      <td>3.0</td>\n",
       "      <td>1.4</td>\n",
       "      <td>0.2</td>\n",
       "    </tr>\n",
       "    <tr>\n",
       "      <th>1</th>\n",
       "      <td>4.7</td>\n",
       "      <td>3.2</td>\n",
       "      <td>1.3</td>\n",
       "      <td>0.2</td>\n",
       "    </tr>\n",
       "    <tr>\n",
       "      <th>2</th>\n",
       "      <td>4.6</td>\n",
       "      <td>3.1</td>\n",
       "      <td>1.5</td>\n",
       "      <td>0.2</td>\n",
       "    </tr>\n",
       "    <tr>\n",
       "      <th>3</th>\n",
       "      <td>5.0</td>\n",
       "      <td>3.6</td>\n",
       "      <td>1.4</td>\n",
       "      <td>0.2</td>\n",
       "    </tr>\n",
       "    <tr>\n",
       "      <th>4</th>\n",
       "      <td>5.4</td>\n",
       "      <td>3.9</td>\n",
       "      <td>1.7</td>\n",
       "      <td>0.4</td>\n",
       "    </tr>\n",
       "    <tr>\n",
       "      <th>...</th>\n",
       "      <td>...</td>\n",
       "      <td>...</td>\n",
       "      <td>...</td>\n",
       "      <td>...</td>\n",
       "    </tr>\n",
       "    <tr>\n",
       "      <th>144</th>\n",
       "      <td>6.7</td>\n",
       "      <td>3.0</td>\n",
       "      <td>5.2</td>\n",
       "      <td>2.3</td>\n",
       "    </tr>\n",
       "    <tr>\n",
       "      <th>145</th>\n",
       "      <td>6.3</td>\n",
       "      <td>2.5</td>\n",
       "      <td>5.0</td>\n",
       "      <td>1.9</td>\n",
       "    </tr>\n",
       "    <tr>\n",
       "      <th>146</th>\n",
       "      <td>6.5</td>\n",
       "      <td>3.0</td>\n",
       "      <td>5.2</td>\n",
       "      <td>2.0</td>\n",
       "    </tr>\n",
       "    <tr>\n",
       "      <th>147</th>\n",
       "      <td>6.2</td>\n",
       "      <td>3.4</td>\n",
       "      <td>5.4</td>\n",
       "      <td>2.3</td>\n",
       "    </tr>\n",
       "    <tr>\n",
       "      <th>148</th>\n",
       "      <td>5.9</td>\n",
       "      <td>3.0</td>\n",
       "      <td>5.1</td>\n",
       "      <td>1.8</td>\n",
       "    </tr>\n",
       "  </tbody>\n",
       "</table>\n",
       "<p>149 rows × 4 columns</p>\n",
       "</div>"
      ],
      "text/plain": [
       "     sepal length in cm  sepal width in cm  petal length in cm   \n",
       "0                   4.9                3.0                 1.4  \\\n",
       "1                   4.7                3.2                 1.3   \n",
       "2                   4.6                3.1                 1.5   \n",
       "3                   5.0                3.6                 1.4   \n",
       "4                   5.4                3.9                 1.7   \n",
       "..                  ...                ...                 ...   \n",
       "144                 6.7                3.0                 5.2   \n",
       "145                 6.3                2.5                 5.0   \n",
       "146                 6.5                3.0                 5.2   \n",
       "147                 6.2                3.4                 5.4   \n",
       "148                 5.9                3.0                 5.1   \n",
       "\n",
       "     petal width in cm  \n",
       "0                  0.2  \n",
       "1                  0.2  \n",
       "2                  0.2  \n",
       "3                  0.2  \n",
       "4                  0.4  \n",
       "..                 ...  \n",
       "144                2.3  \n",
       "145                1.9  \n",
       "146                2.0  \n",
       "147                2.3  \n",
       "148                1.8  \n",
       "\n",
       "[149 rows x 4 columns]"
      ]
     },
     "execution_count": 119,
     "metadata": {},
     "output_type": "execute_result"
    }
   ],
   "source": [
    "df = df.drop('class', axis=1)\n",
    "df"
   ]
  },
  {
   "cell_type": "code",
   "execution_count": 126,
   "id": "da8f57e1",
   "metadata": {},
   "outputs": [
    {
     "data": {
      "text/plain": [
       "sepal length in cm    0\n",
       "sepal width in cm     0\n",
       "petal length in cm    0\n",
       "petal width in cm     0\n",
       "class                 0\n",
       "dtype: int64"
      ]
     },
     "execution_count": 126,
     "metadata": {},
     "output_type": "execute_result"
    }
   ],
   "source": [
    "df.isna().sum()"
   ]
  },
  {
   "cell_type": "code",
   "execution_count": 127,
   "id": "3216026a",
   "metadata": {
    "scrolled": true
   },
   "outputs": [
    {
     "data": {
      "text/html": [
       "<div>\n",
       "<style scoped>\n",
       "    .dataframe tbody tr th:only-of-type {\n",
       "        vertical-align: middle;\n",
       "    }\n",
       "\n",
       "    .dataframe tbody tr th {\n",
       "        vertical-align: top;\n",
       "    }\n",
       "\n",
       "    .dataframe thead th {\n",
       "        text-align: right;\n",
       "    }\n",
       "</style>\n",
       "<table border=\"1\" class=\"dataframe\">\n",
       "  <thead>\n",
       "    <tr style=\"text-align: right;\">\n",
       "      <th></th>\n",
       "      <th>sepal length in cm</th>\n",
       "      <th>sepal width in cm</th>\n",
       "      <th>petal length in cm</th>\n",
       "      <th>petal width in cm</th>\n",
       "      <th>class</th>\n",
       "    </tr>\n",
       "  </thead>\n",
       "  <tbody>\n",
       "    <tr>\n",
       "      <th>0</th>\n",
       "      <td>4.9</td>\n",
       "      <td>3.0</td>\n",
       "      <td>1.4</td>\n",
       "      <td>0.2</td>\n",
       "      <td>Iris-setosa</td>\n",
       "    </tr>\n",
       "    <tr>\n",
       "      <th>1</th>\n",
       "      <td>4.7</td>\n",
       "      <td>3.2</td>\n",
       "      <td>1.3</td>\n",
       "      <td>0.2</td>\n",
       "      <td>Iris-setosa</td>\n",
       "    </tr>\n",
       "    <tr>\n",
       "      <th>2</th>\n",
       "      <td>4.6</td>\n",
       "      <td>3.1</td>\n",
       "      <td>1.5</td>\n",
       "      <td>0.2</td>\n",
       "      <td>Iris-setosa</td>\n",
       "    </tr>\n",
       "    <tr>\n",
       "      <th>3</th>\n",
       "      <td>5.0</td>\n",
       "      <td>3.6</td>\n",
       "      <td>1.4</td>\n",
       "      <td>0.2</td>\n",
       "      <td>Iris-setosa</td>\n",
       "    </tr>\n",
       "    <tr>\n",
       "      <th>4</th>\n",
       "      <td>5.4</td>\n",
       "      <td>3.9</td>\n",
       "      <td>1.7</td>\n",
       "      <td>0.4</td>\n",
       "      <td>Iris-setosa</td>\n",
       "    </tr>\n",
       "  </tbody>\n",
       "</table>\n",
       "</div>"
      ],
      "text/plain": [
       "   sepal length in cm  sepal width in cm  petal length in cm   \n",
       "0                 4.9                3.0                 1.4  \\\n",
       "1                 4.7                3.2                 1.3   \n",
       "2                 4.6                3.1                 1.5   \n",
       "3                 5.0                3.6                 1.4   \n",
       "4                 5.4                3.9                 1.7   \n",
       "\n",
       "   petal width in cm        class  \n",
       "0                0.2  Iris-setosa  \n",
       "1                0.2  Iris-setosa  \n",
       "2                0.2  Iris-setosa  \n",
       "3                0.2  Iris-setosa  \n",
       "4                0.4  Iris-setosa  "
      ]
     },
     "execution_count": 127,
     "metadata": {},
     "output_type": "execute_result"
    }
   ],
   "source": [
    "df.dropna(inplace=True)\n",
    "df.head()"
   ]
  },
  {
   "cell_type": "code",
   "execution_count": 128,
   "id": "8d2a8fc8",
   "metadata": {
    "scrolled": true
   },
   "outputs": [
    {
     "data": {
      "text/html": [
       "<div>\n",
       "<style scoped>\n",
       "    .dataframe tbody tr th:only-of-type {\n",
       "        vertical-align: middle;\n",
       "    }\n",
       "\n",
       "    .dataframe tbody tr th {\n",
       "        vertical-align: top;\n",
       "    }\n",
       "\n",
       "    .dataframe thead th {\n",
       "        text-align: right;\n",
       "    }\n",
       "</style>\n",
       "<table border=\"1\" class=\"dataframe\">\n",
       "  <thead>\n",
       "    <tr style=\"text-align: right;\">\n",
       "      <th></th>\n",
       "      <th>sepal length in cm</th>\n",
       "      <th>sepal width in cm</th>\n",
       "      <th>petal length in cm</th>\n",
       "      <th>petal width in cm</th>\n",
       "      <th>class</th>\n",
       "    </tr>\n",
       "  </thead>\n",
       "  <tbody>\n",
       "    <tr>\n",
       "      <th>0</th>\n",
       "      <td>4.9</td>\n",
       "      <td>3.0</td>\n",
       "      <td>1.4</td>\n",
       "      <td>0.2</td>\n",
       "      <td>Iris-setosa</td>\n",
       "    </tr>\n",
       "    <tr>\n",
       "      <th>1</th>\n",
       "      <td>4.7</td>\n",
       "      <td>3.2</td>\n",
       "      <td>1.3</td>\n",
       "      <td>0.2</td>\n",
       "      <td>Iris-setosa</td>\n",
       "    </tr>\n",
       "    <tr>\n",
       "      <th>2</th>\n",
       "      <td>4.6</td>\n",
       "      <td>3.1</td>\n",
       "      <td>1.5</td>\n",
       "      <td>0.2</td>\n",
       "      <td>Iris-setosa</td>\n",
       "    </tr>\n",
       "    <tr>\n",
       "      <th>3</th>\n",
       "      <td>5.0</td>\n",
       "      <td>3.6</td>\n",
       "      <td>1.4</td>\n",
       "      <td>0.2</td>\n",
       "      <td>Iris-setosa</td>\n",
       "    </tr>\n",
       "    <tr>\n",
       "      <th>4</th>\n",
       "      <td>5.4</td>\n",
       "      <td>3.9</td>\n",
       "      <td>1.7</td>\n",
       "      <td>0.4</td>\n",
       "      <td>Iris-setosa</td>\n",
       "    </tr>\n",
       "  </tbody>\n",
       "</table>\n",
       "</div>"
      ],
      "text/plain": [
       "   sepal length in cm  sepal width in cm  petal length in cm   \n",
       "0                 4.9                3.0                 1.4  \\\n",
       "1                 4.7                3.2                 1.3   \n",
       "2                 4.6                3.1                 1.5   \n",
       "3                 5.0                3.6                 1.4   \n",
       "4                 5.4                3.9                 1.7   \n",
       "\n",
       "   petal width in cm        class  \n",
       "0                0.2  Iris-setosa  \n",
       "1                0.2  Iris-setosa  \n",
       "2                0.2  Iris-setosa  \n",
       "3                0.2  Iris-setosa  \n",
       "4                0.4  Iris-setosa  "
      ]
     },
     "execution_count": 128,
     "metadata": {},
     "output_type": "execute_result"
    }
   ],
   "source": [
    "df.replace(\"?\", pd.NA, inplace=True)\n",
    "df.replace(\"\", pd.NA, inplace=True)\n",
    "df.head()"
   ]
  },
  {
   "cell_type": "markdown",
   "id": "eb633952",
   "metadata": {},
   "source": [
    "# outlier detection and correction"
   ]
  },
  {
   "cell_type": "code",
   "execution_count": 123,
   "id": "68a181f1",
   "metadata": {},
   "outputs": [
    {
     "data": {
      "text/html": [
       "<div>\n",
       "<style scoped>\n",
       "    .dataframe tbody tr th:only-of-type {\n",
       "        vertical-align: middle;\n",
       "    }\n",
       "\n",
       "    .dataframe tbody tr th {\n",
       "        vertical-align: top;\n",
       "    }\n",
       "\n",
       "    .dataframe thead th {\n",
       "        text-align: right;\n",
       "    }\n",
       "</style>\n",
       "<table border=\"1\" class=\"dataframe\">\n",
       "  <thead>\n",
       "    <tr style=\"text-align: right;\">\n",
       "      <th></th>\n",
       "      <th>sepal length in cm</th>\n",
       "      <th>sepal width in cm</th>\n",
       "      <th>petal length in cm</th>\n",
       "      <th>petal width in cm</th>\n",
       "    </tr>\n",
       "  </thead>\n",
       "  <tbody>\n",
       "    <tr>\n",
       "      <th>0</th>\n",
       "      <td>4.9</td>\n",
       "      <td>3.0</td>\n",
       "      <td>1.4</td>\n",
       "      <td>0.2</td>\n",
       "    </tr>\n",
       "    <tr>\n",
       "      <th>1</th>\n",
       "      <td>4.7</td>\n",
       "      <td>3.2</td>\n",
       "      <td>1.3</td>\n",
       "      <td>0.2</td>\n",
       "    </tr>\n",
       "    <tr>\n",
       "      <th>2</th>\n",
       "      <td>4.6</td>\n",
       "      <td>3.1</td>\n",
       "      <td>1.5</td>\n",
       "      <td>0.2</td>\n",
       "    </tr>\n",
       "    <tr>\n",
       "      <th>3</th>\n",
       "      <td>5.0</td>\n",
       "      <td>3.6</td>\n",
       "      <td>1.4</td>\n",
       "      <td>0.2</td>\n",
       "    </tr>\n",
       "    <tr>\n",
       "      <th>4</th>\n",
       "      <td>5.4</td>\n",
       "      <td>3.9</td>\n",
       "      <td>1.7</td>\n",
       "      <td>0.4</td>\n",
       "    </tr>\n",
       "    <tr>\n",
       "      <th>...</th>\n",
       "      <td>...</td>\n",
       "      <td>...</td>\n",
       "      <td>...</td>\n",
       "      <td>...</td>\n",
       "    </tr>\n",
       "    <tr>\n",
       "      <th>144</th>\n",
       "      <td>6.7</td>\n",
       "      <td>3.0</td>\n",
       "      <td>5.2</td>\n",
       "      <td>2.3</td>\n",
       "    </tr>\n",
       "    <tr>\n",
       "      <th>145</th>\n",
       "      <td>6.3</td>\n",
       "      <td>2.5</td>\n",
       "      <td>5.0</td>\n",
       "      <td>1.9</td>\n",
       "    </tr>\n",
       "    <tr>\n",
       "      <th>146</th>\n",
       "      <td>6.5</td>\n",
       "      <td>3.0</td>\n",
       "      <td>5.2</td>\n",
       "      <td>2.0</td>\n",
       "    </tr>\n",
       "    <tr>\n",
       "      <th>147</th>\n",
       "      <td>6.2</td>\n",
       "      <td>3.4</td>\n",
       "      <td>5.4</td>\n",
       "      <td>2.3</td>\n",
       "    </tr>\n",
       "    <tr>\n",
       "      <th>148</th>\n",
       "      <td>5.9</td>\n",
       "      <td>3.0</td>\n",
       "      <td>5.1</td>\n",
       "      <td>1.8</td>\n",
       "    </tr>\n",
       "  </tbody>\n",
       "</table>\n",
       "<p>148 rows × 4 columns</p>\n",
       "</div>"
      ],
      "text/plain": [
       "     sepal length in cm  sepal width in cm  petal length in cm   \n",
       "0                   4.9                3.0                 1.4  \\\n",
       "1                   4.7                3.2                 1.3   \n",
       "2                   4.6                3.1                 1.5   \n",
       "3                   5.0                3.6                 1.4   \n",
       "4                   5.4                3.9                 1.7   \n",
       "..                  ...                ...                 ...   \n",
       "144                 6.7                3.0                 5.2   \n",
       "145                 6.3                2.5                 5.0   \n",
       "146                 6.5                3.0                 5.2   \n",
       "147                 6.2                3.4                 5.4   \n",
       "148                 5.9                3.0                 5.1   \n",
       "\n",
       "     petal width in cm  \n",
       "0                  0.2  \n",
       "1                  0.2  \n",
       "2                  0.2  \n",
       "3                  0.2  \n",
       "4                  0.4  \n",
       "..                 ...  \n",
       "144                2.3  \n",
       "145                1.9  \n",
       "146                2.0  \n",
       "147                2.3  \n",
       "148                1.8  \n",
       "\n",
       "[148 rows x 4 columns]"
      ]
     },
     "execution_count": 123,
     "metadata": {},
     "output_type": "execute_result"
    }
   ],
   "source": [
    "out = abs((df - df.mean()) / df.std())\n",
    "lier = out > 3\n",
    "# df = df[~lier]\n",
    "df = df[~lier.any(axis=1)]\n",
    "df"
   ]
  },
  {
   "cell_type": "markdown",
   "id": "1a515d5a",
   "metadata": {},
   "source": [
    "# transformation"
   ]
  },
  {
   "cell_type": "code",
   "execution_count": 124,
   "id": "d938a896",
   "metadata": {
    "scrolled": true
   },
   "outputs": [
    {
     "data": {
      "text/plain": [
       "array([[-1.14582985, -0.09998596, -1.36593123, -1.33284005],\n",
       "       [-1.38722888,  0.37736635, -1.4230864 , -1.33284005],\n",
       "       [-1.50792839,  0.1386902 , -1.30877607, -1.33284005],\n",
       "       [-1.02513033,  1.33207095, -1.36593123, -1.33284005],\n",
       "       [-0.54233228,  2.0480994 , -1.19446573, -1.06912303],\n",
       "       [-1.50792839,  0.85471865, -1.36593123, -1.20098154],\n",
       "       [-1.02513033,  0.85471865, -1.30877607, -1.33284005],\n",
       "       [-1.74932742, -0.33866211, -1.36593123, -1.33284005],\n",
       "       [-1.14582985,  0.1386902 , -1.30877607, -1.46469856],\n",
       "       [-0.54233228,  1.5707471 , -1.30877607, -1.33284005],\n",
       "       [-1.26652936,  0.85471865, -1.2516209 , -1.33284005],\n",
       "       [-1.26652936, -0.09998596, -1.36593123, -1.46469856],\n",
       "       [-1.87002693, -0.09998596, -1.53739673, -1.46469856],\n",
       "       [-0.05953422,  2.28677555, -1.48024156, -1.33284005],\n",
       "       [-0.54233228,  2.0480994 , -1.4230864 , -1.06912303],\n",
       "       [-0.90443082,  1.0933948 , -1.36593123, -1.20098154],\n",
       "       [-0.18023373,  1.80942325, -1.19446573, -1.20098154],\n",
       "       [-0.90443082,  1.80942325, -1.30877607, -1.20098154],\n",
       "       [-0.54233228,  0.85471865, -1.19446573, -1.33284005],\n",
       "       [-0.90443082,  1.5707471 , -1.30877607, -1.06912303],\n",
       "       [-1.50792839,  1.33207095, -1.5945519 , -1.33284005],\n",
       "       [-0.90443082,  0.6160425 , -1.19446573, -0.93726453],\n",
       "       [-1.26652936,  0.85471865, -1.0801554 , -1.33284005],\n",
       "       [-1.02513033, -0.09998596, -1.2516209 , -1.33284005],\n",
       "       [-1.02513033,  0.85471865, -1.2516209 , -1.06912303],\n",
       "       [-0.7837313 ,  1.0933948 , -1.30877607, -1.33284005],\n",
       "       [-0.7837313 ,  0.85471865, -1.36593123, -1.33284005],\n",
       "       [-1.38722888,  0.37736635, -1.2516209 , -1.33284005],\n",
       "       [-1.26652936,  0.1386902 , -1.2516209 , -1.33284005],\n",
       "       [-0.54233228,  0.85471865, -1.30877607, -1.06912303],\n",
       "       [-0.7837313 ,  2.5254517 , -1.30877607, -1.46469856],\n",
       "       [-0.42163276,  2.76412786, -1.36593123, -1.33284005],\n",
       "       [-1.14582985,  0.1386902 , -1.30877607, -1.46469856],\n",
       "       [-1.02513033,  0.37736635, -1.48024156, -1.33284005],\n",
       "       [-0.42163276,  1.0933948 , -1.4230864 , -1.33284005],\n",
       "       [-1.14582985,  0.1386902 , -1.30877607, -1.46469856],\n",
       "       [-1.74932742, -0.09998596, -1.4230864 , -1.33284005],\n",
       "       [-0.90443082,  0.85471865, -1.30877607, -1.33284005],\n",
       "       [-1.02513033,  1.0933948 , -1.4230864 , -1.20098154],\n",
       "       [-1.6286279 , -1.77071901, -1.4230864 , -1.20098154],\n",
       "       [-1.74932742,  0.37736635, -1.4230864 , -1.33284005],\n",
       "       [-1.02513033,  1.0933948 , -1.2516209 , -0.80540602],\n",
       "       [-0.90443082,  1.80942325, -1.0801554 , -1.06912303],\n",
       "       [-1.26652936, -0.09998596, -1.36593123, -1.20098154],\n",
       "       [-0.90443082,  1.80942325, -1.2516209 , -1.33284005],\n",
       "       [-1.50792839,  0.37736635, -1.36593123, -1.33284005],\n",
       "       [-0.66303179,  1.5707471 , -1.30877607, -1.33284005],\n",
       "       [-1.02513033,  0.6160425 , -1.36593123, -1.33284005],\n",
       "       [ 1.38885995,  0.37736635,  0.52018925,  0.24946204],\n",
       "       [ 0.66466287,  0.37736635,  0.40587892,  0.38132055],\n",
       "       [ 1.26816044,  0.1386902 ,  0.63449958,  0.38132055],\n",
       "       [-0.42163276, -1.77071901,  0.12010309,  0.11760353],\n",
       "       [ 0.78536238, -0.57733826,  0.46303408,  0.38132055],\n",
       "       [-0.18023373, -0.57733826,  0.40587892,  0.11760353],\n",
       "       [ 0.54396335,  0.6160425 ,  0.52018925,  0.51317906],\n",
       "       [-1.14582985, -1.53204286, -0.27998308, -0.27797199],\n",
       "       [ 0.90606189, -0.33866211,  0.46303408,  0.11760353],\n",
       "       [-0.7837313 , -0.81601441,  0.06294792,  0.24946204],\n",
       "       [-1.02513033, -2.48674746, -0.16567274, -0.27797199],\n",
       "       [ 0.06116529, -0.09998596,  0.23441342,  0.38132055],\n",
       "       [ 0.18186481, -2.00939516,  0.12010309, -0.27797199],\n",
       "       [ 0.30256432, -0.33866211,  0.52018925,  0.24946204],\n",
       "       [-0.30093325, -0.33866211, -0.10851758,  0.11760353],\n",
       "       [ 1.02676141,  0.1386902 ,  0.34872375,  0.24946204],\n",
       "       [-0.30093325, -0.09998596,  0.40587892,  0.38132055],\n",
       "       [-0.05953422, -0.81601441,  0.17725825, -0.27797199],\n",
       "       [ 0.42326384, -2.00939516,  0.40587892,  0.38132055],\n",
       "       [-0.30093325, -1.29336671,  0.06294792, -0.14611348],\n",
       "       [ 0.06116529,  0.37736635,  0.57734441,  0.77689607],\n",
       "       [ 0.30256432, -0.57733826,  0.12010309,  0.11760353],\n",
       "       [ 0.54396335, -1.29336671,  0.63449958,  0.38132055],\n",
       "       [ 0.30256432, -0.57733826,  0.52018925, -0.01425497],\n",
       "       [ 0.66466287, -0.33866211,  0.29156858,  0.11760353],\n",
       "       [ 0.90606189, -0.09998596,  0.34872375,  0.24946204],\n",
       "       [ 1.14746092, -0.57733826,  0.57734441,  0.24946204],\n",
       "       [ 1.02676141, -0.09998596,  0.69165475,  0.64503756],\n",
       "       [ 0.18186481, -0.33866211,  0.40587892,  0.38132055],\n",
       "       [-0.18023373, -1.05469056, -0.16567274, -0.27797199],\n",
       "       [-0.42163276, -1.53204286,  0.00579275, -0.14611348],\n",
       "       [-0.42163276, -1.53204286, -0.05136241, -0.27797199],\n",
       "       [-0.05953422, -0.81601441,  0.06294792, -0.01425497],\n",
       "       [ 0.18186481, -0.81601441,  0.74880991,  0.51317906],\n",
       "       [-0.54233228, -0.09998596,  0.40587892,  0.38132055],\n",
       "       [ 0.18186481,  0.85471865,  0.40587892,  0.51317906],\n",
       "       [ 1.02676141,  0.1386902 ,  0.52018925,  0.38132055],\n",
       "       [ 0.54396335, -1.77071901,  0.34872375,  0.11760353],\n",
       "       [-0.30093325, -0.09998596,  0.17725825,  0.11760353],\n",
       "       [-0.42163276, -1.29336671,  0.12010309,  0.11760353],\n",
       "       [-0.42163276, -1.05469056,  0.34872375, -0.01425497],\n",
       "       [ 0.30256432, -0.09998596,  0.46303408,  0.24946204],\n",
       "       [-0.05953422, -1.05469056,  0.12010309, -0.01425497],\n",
       "       [-1.02513033, -1.77071901, -0.27998308, -0.27797199],\n",
       "       [-0.30093325, -0.81601441,  0.23441342,  0.11760353],\n",
       "       [-0.18023373, -0.09998596,  0.23441342, -0.01425497],\n",
       "       [-0.18023373, -0.33866211,  0.23441342,  0.11760353],\n",
       "       [ 0.42326384, -0.33866211,  0.29156858,  0.11760353],\n",
       "       [-0.90443082, -1.29336671, -0.45144858, -0.14611348],\n",
       "       [-0.18023373, -0.57733826,  0.17725825,  0.11760353],\n",
       "       [ 0.54396335,  0.6160425 ,  1.26320641,  1.69990562],\n",
       "       [-0.05953422, -0.81601441,  0.74880991,  0.90875458],\n",
       "       [ 1.50955946, -0.09998596,  1.20605124,  1.17247159],\n",
       "       [ 0.54396335, -0.33866211,  1.03458574,  0.77689607],\n",
       "       [ 0.78536238, -0.09998596,  1.14889607,  1.3043301 ],\n",
       "       [ 2.11305703, -0.09998596,  1.6061374 ,  1.17247159],\n",
       "       [-1.14582985, -1.29336671,  0.40587892,  0.64503756],\n",
       "       [ 1.75095849, -0.33866211,  1.43467191,  0.77689607],\n",
       "       [ 1.02676141, -1.29336671,  1.14889607,  0.77689607],\n",
       "       [ 1.63025898,  1.33207095,  1.32036157,  1.69990562],\n",
       "       [ 0.78536238,  0.37736635,  0.74880991,  1.04061309],\n",
       "       [ 0.66466287, -0.81601441,  0.86312024,  0.90875458],\n",
       "       [ 1.14746092, -0.09998596,  0.97743058,  1.17247159],\n",
       "       [-0.18023373, -1.29336671,  0.69165475,  1.04061309],\n",
       "       [-0.05953422, -0.57733826,  0.74880991,  1.56804712],\n",
       "       [ 0.66466287,  0.37736635,  0.86312024,  1.43618861],\n",
       "       [ 0.78536238, -0.09998596,  0.97743058,  0.77689607],\n",
       "       [ 2.23375655,  1.80942325,  1.66329257,  1.3043301 ],\n",
       "       [ 2.23375655, -1.05469056,  1.7776029 ,  1.43618861],\n",
       "       [ 0.18186481, -2.00939516,  0.69165475,  0.38132055],\n",
       "       [ 1.26816044,  0.37736635,  1.09174091,  1.43618861],\n",
       "       [-0.30093325, -0.57733826,  0.63449958,  1.04061309],\n",
       "       [ 2.23375655, -0.57733826,  1.66329257,  1.04061309],\n",
       "       [ 0.54396335, -0.81601441,  0.63449958,  0.77689607],\n",
       "       [ 1.02676141,  0.6160425 ,  1.09174091,  1.17247159],\n",
       "       [ 1.63025898,  0.37736635,  1.26320641,  0.77689607],\n",
       "       [ 0.42326384, -0.57733826,  0.57734441,  0.77689607],\n",
       "       [ 0.30256432, -0.09998596,  0.63449958,  0.77689607],\n",
       "       [ 0.66466287, -0.57733826,  1.03458574,  1.17247159],\n",
       "       [ 1.63025898, -0.09998596,  1.14889607,  0.51317906],\n",
       "       [ 1.87165801, -0.57733826,  1.32036157,  0.90875458],\n",
       "       [ 2.47515558,  1.80942325,  1.49182707,  1.04061309],\n",
       "       [ 0.66466287, -0.57733826,  1.03458574,  1.3043301 ],\n",
       "       [ 0.54396335, -0.57733826,  0.74880991,  0.38132055],\n",
       "       [ 0.30256432, -1.05469056,  1.03458574,  0.24946204],\n",
       "       [ 2.23375655, -0.09998596,  1.32036157,  1.43618861],\n",
       "       [ 0.54396335,  0.85471865,  1.03458574,  1.56804712],\n",
       "       [ 0.66466287,  0.1386902 ,  0.97743058,  0.77689607],\n",
       "       [ 0.18186481, -0.09998596,  0.57734441,  0.77689607],\n",
       "       [ 1.26816044,  0.1386902 ,  0.92027541,  1.17247159],\n",
       "       [ 1.02676141,  0.1386902 ,  1.03458574,  1.56804712],\n",
       "       [ 1.26816044,  0.1386902 ,  0.74880991,  1.43618861],\n",
       "       [-0.05953422, -0.81601441,  0.74880991,  0.90875458],\n",
       "       [ 1.14746092,  0.37736635,  1.20605124,  1.43618861],\n",
       "       [ 1.02676141,  0.6160425 ,  1.09174091,  1.69990562],\n",
       "       [ 1.02676141, -0.09998596,  0.80596508,  1.43618861],\n",
       "       [ 0.54396335, -1.29336671,  0.69165475,  0.90875458],\n",
       "       [ 0.78536238, -0.09998596,  0.80596508,  1.04061309],\n",
       "       [ 0.42326384,  0.85471865,  0.92027541,  1.43618861],\n",
       "       [ 0.06116529, -0.09998596,  0.74880991,  0.77689607]])"
      ]
     },
     "execution_count": 124,
     "metadata": {},
     "output_type": "execute_result"
    }
   ],
   "source": [
    "scaler = StandardScaler()\n",
    "df = scaler.fit_transform(df)\n",
    "df"
   ]
  },
  {
   "cell_type": "markdown",
   "id": "0a6272d6",
   "metadata": {},
   "source": [
    "# train linear and nb"
   ]
  },
  {
   "cell_type": "code",
   "execution_count": 129,
   "id": "f0c688a7",
   "metadata": {},
   "outputs": [
    {
     "data": {
      "text/html": [
       "<div>\n",
       "<style scoped>\n",
       "    .dataframe tbody tr th:only-of-type {\n",
       "        vertical-align: middle;\n",
       "    }\n",
       "\n",
       "    .dataframe tbody tr th {\n",
       "        vertical-align: top;\n",
       "    }\n",
       "\n",
       "    .dataframe thead th {\n",
       "        text-align: right;\n",
       "    }\n",
       "</style>\n",
       "<table border=\"1\" class=\"dataframe\">\n",
       "  <thead>\n",
       "    <tr style=\"text-align: right;\">\n",
       "      <th></th>\n",
       "      <th>sepal length in cm</th>\n",
       "      <th>sepal width in cm</th>\n",
       "      <th>petal length in cm</th>\n",
       "      <th>petal width in cm</th>\n",
       "    </tr>\n",
       "  </thead>\n",
       "  <tbody>\n",
       "    <tr>\n",
       "      <th>0</th>\n",
       "      <td>4.9</td>\n",
       "      <td>3.0</td>\n",
       "      <td>1.4</td>\n",
       "      <td>0.2</td>\n",
       "    </tr>\n",
       "    <tr>\n",
       "      <th>1</th>\n",
       "      <td>4.7</td>\n",
       "      <td>3.2</td>\n",
       "      <td>1.3</td>\n",
       "      <td>0.2</td>\n",
       "    </tr>\n",
       "    <tr>\n",
       "      <th>2</th>\n",
       "      <td>4.6</td>\n",
       "      <td>3.1</td>\n",
       "      <td>1.5</td>\n",
       "      <td>0.2</td>\n",
       "    </tr>\n",
       "    <tr>\n",
       "      <th>3</th>\n",
       "      <td>5.0</td>\n",
       "      <td>3.6</td>\n",
       "      <td>1.4</td>\n",
       "      <td>0.2</td>\n",
       "    </tr>\n",
       "    <tr>\n",
       "      <th>4</th>\n",
       "      <td>5.4</td>\n",
       "      <td>3.9</td>\n",
       "      <td>1.7</td>\n",
       "      <td>0.4</td>\n",
       "    </tr>\n",
       "    <tr>\n",
       "      <th>...</th>\n",
       "      <td>...</td>\n",
       "      <td>...</td>\n",
       "      <td>...</td>\n",
       "      <td>...</td>\n",
       "    </tr>\n",
       "    <tr>\n",
       "      <th>144</th>\n",
       "      <td>6.7</td>\n",
       "      <td>3.0</td>\n",
       "      <td>5.2</td>\n",
       "      <td>2.3</td>\n",
       "    </tr>\n",
       "    <tr>\n",
       "      <th>145</th>\n",
       "      <td>6.3</td>\n",
       "      <td>2.5</td>\n",
       "      <td>5.0</td>\n",
       "      <td>1.9</td>\n",
       "    </tr>\n",
       "    <tr>\n",
       "      <th>146</th>\n",
       "      <td>6.5</td>\n",
       "      <td>3.0</td>\n",
       "      <td>5.2</td>\n",
       "      <td>2.0</td>\n",
       "    </tr>\n",
       "    <tr>\n",
       "      <th>147</th>\n",
       "      <td>6.2</td>\n",
       "      <td>3.4</td>\n",
       "      <td>5.4</td>\n",
       "      <td>2.3</td>\n",
       "    </tr>\n",
       "    <tr>\n",
       "      <th>148</th>\n",
       "      <td>5.9</td>\n",
       "      <td>3.0</td>\n",
       "      <td>5.1</td>\n",
       "      <td>1.8</td>\n",
       "    </tr>\n",
       "  </tbody>\n",
       "</table>\n",
       "<p>149 rows × 4 columns</p>\n",
       "</div>"
      ],
      "text/plain": [
       "     sepal length in cm  sepal width in cm  petal length in cm   \n",
       "0                   4.9                3.0                 1.4  \\\n",
       "1                   4.7                3.2                 1.3   \n",
       "2                   4.6                3.1                 1.5   \n",
       "3                   5.0                3.6                 1.4   \n",
       "4                   5.4                3.9                 1.7   \n",
       "..                  ...                ...                 ...   \n",
       "144                 6.7                3.0                 5.2   \n",
       "145                 6.3                2.5                 5.0   \n",
       "146                 6.5                3.0                 5.2   \n",
       "147                 6.2                3.4                 5.4   \n",
       "148                 5.9                3.0                 5.1   \n",
       "\n",
       "     petal width in cm  \n",
       "0                  0.2  \n",
       "1                  0.2  \n",
       "2                  0.2  \n",
       "3                  0.2  \n",
       "4                  0.4  \n",
       "..                 ...  \n",
       "144                2.3  \n",
       "145                1.9  \n",
       "146                2.0  \n",
       "147                2.3  \n",
       "148                1.8  \n",
       "\n",
       "[149 rows x 4 columns]"
      ]
     },
     "execution_count": 129,
     "metadata": {},
     "output_type": "execute_result"
    }
   ],
   "source": [
    "X=df.drop('class',axis=1)\n",
    "X"
   ]
  },
  {
   "cell_type": "code",
   "execution_count": 130,
   "id": "ec5b543c",
   "metadata": {},
   "outputs": [
    {
     "data": {
      "text/plain": [
       "0         Iris-setosa\n",
       "1         Iris-setosa\n",
       "2         Iris-setosa\n",
       "3         Iris-setosa\n",
       "4         Iris-setosa\n",
       "            ...      \n",
       "144    Iris-virginica\n",
       "145    Iris-virginica\n",
       "146    Iris-virginica\n",
       "147    Iris-virginica\n",
       "148    Iris-virginica\n",
       "Name: class, Length: 149, dtype: object"
      ]
     },
     "execution_count": 130,
     "metadata": {},
     "output_type": "execute_result"
    }
   ],
   "source": [
    "Y=df['class']\n",
    "Y"
   ]
  },
  {
   "cell_type": "code",
   "execution_count": 131,
   "id": "c9fb639a",
   "metadata": {},
   "outputs": [],
   "source": [
    "x_train,x_test, y_train, y_test = train_test_split(X,Y, test_size=0.25)"
   ]
  },
  {
   "cell_type": "markdown",
   "id": "23b4937e",
   "metadata": {},
   "source": [
    "## linear"
   ]
  },
  {
   "cell_type": "code",
   "execution_count": 142,
   "id": "9c06537f",
   "metadata": {},
   "outputs": [],
   "source": [
    "lr = LogisticRegression()"
   ]
  },
  {
   "cell_type": "code",
   "execution_count": 143,
   "id": "9b3e2438",
   "metadata": {},
   "outputs": [
    {
     "data": {
      "text/html": [
       "<style>#sk-container-id-5 {color: black;background-color: white;}#sk-container-id-5 pre{padding: 0;}#sk-container-id-5 div.sk-toggleable {background-color: white;}#sk-container-id-5 label.sk-toggleable__label {cursor: pointer;display: block;width: 100%;margin-bottom: 0;padding: 0.3em;box-sizing: border-box;text-align: center;}#sk-container-id-5 label.sk-toggleable__label-arrow:before {content: \"▸\";float: left;margin-right: 0.25em;color: #696969;}#sk-container-id-5 label.sk-toggleable__label-arrow:hover:before {color: black;}#sk-container-id-5 div.sk-estimator:hover label.sk-toggleable__label-arrow:before {color: black;}#sk-container-id-5 div.sk-toggleable__content {max-height: 0;max-width: 0;overflow: hidden;text-align: left;background-color: #f0f8ff;}#sk-container-id-5 div.sk-toggleable__content pre {margin: 0.2em;color: black;border-radius: 0.25em;background-color: #f0f8ff;}#sk-container-id-5 input.sk-toggleable__control:checked~div.sk-toggleable__content {max-height: 200px;max-width: 100%;overflow: auto;}#sk-container-id-5 input.sk-toggleable__control:checked~label.sk-toggleable__label-arrow:before {content: \"▾\";}#sk-container-id-5 div.sk-estimator input.sk-toggleable__control:checked~label.sk-toggleable__label {background-color: #d4ebff;}#sk-container-id-5 div.sk-label input.sk-toggleable__control:checked~label.sk-toggleable__label {background-color: #d4ebff;}#sk-container-id-5 input.sk-hidden--visually {border: 0;clip: rect(1px 1px 1px 1px);clip: rect(1px, 1px, 1px, 1px);height: 1px;margin: -1px;overflow: hidden;padding: 0;position: absolute;width: 1px;}#sk-container-id-5 div.sk-estimator {font-family: monospace;background-color: #f0f8ff;border: 1px dotted black;border-radius: 0.25em;box-sizing: border-box;margin-bottom: 0.5em;}#sk-container-id-5 div.sk-estimator:hover {background-color: #d4ebff;}#sk-container-id-5 div.sk-parallel-item::after {content: \"\";width: 100%;border-bottom: 1px solid gray;flex-grow: 1;}#sk-container-id-5 div.sk-label:hover label.sk-toggleable__label {background-color: #d4ebff;}#sk-container-id-5 div.sk-serial::before {content: \"\";position: absolute;border-left: 1px solid gray;box-sizing: border-box;top: 0;bottom: 0;left: 50%;z-index: 0;}#sk-container-id-5 div.sk-serial {display: flex;flex-direction: column;align-items: center;background-color: white;padding-right: 0.2em;padding-left: 0.2em;position: relative;}#sk-container-id-5 div.sk-item {position: relative;z-index: 1;}#sk-container-id-5 div.sk-parallel {display: flex;align-items: stretch;justify-content: center;background-color: white;position: relative;}#sk-container-id-5 div.sk-item::before, #sk-container-id-5 div.sk-parallel-item::before {content: \"\";position: absolute;border-left: 1px solid gray;box-sizing: border-box;top: 0;bottom: 0;left: 50%;z-index: -1;}#sk-container-id-5 div.sk-parallel-item {display: flex;flex-direction: column;z-index: 1;position: relative;background-color: white;}#sk-container-id-5 div.sk-parallel-item:first-child::after {align-self: flex-end;width: 50%;}#sk-container-id-5 div.sk-parallel-item:last-child::after {align-self: flex-start;width: 50%;}#sk-container-id-5 div.sk-parallel-item:only-child::after {width: 0;}#sk-container-id-5 div.sk-dashed-wrapped {border: 1px dashed gray;margin: 0 0.4em 0.5em 0.4em;box-sizing: border-box;padding-bottom: 0.4em;background-color: white;}#sk-container-id-5 div.sk-label label {font-family: monospace;font-weight: bold;display: inline-block;line-height: 1.2em;}#sk-container-id-5 div.sk-label-container {text-align: center;}#sk-container-id-5 div.sk-container {/* jupyter's `normalize.less` sets `[hidden] { display: none; }` but bootstrap.min.css set `[hidden] { display: none !important; }` so we also need the `!important` here to be able to override the default hidden behavior on the sphinx rendered scikit-learn.org. See: https://github.com/scikit-learn/scikit-learn/issues/21755 */display: inline-block !important;position: relative;}#sk-container-id-5 div.sk-text-repr-fallback {display: none;}</style><div id=\"sk-container-id-5\" class=\"sk-top-container\"><div class=\"sk-text-repr-fallback\"><pre>LogisticRegression()</pre><b>In a Jupyter environment, please rerun this cell to show the HTML representation or trust the notebook. <br />On GitHub, the HTML representation is unable to render, please try loading this page with nbviewer.org.</b></div><div class=\"sk-container\" hidden><div class=\"sk-item\"><div class=\"sk-estimator sk-toggleable\"><input class=\"sk-toggleable__control sk-hidden--visually\" id=\"sk-estimator-id-5\" type=\"checkbox\" checked><label for=\"sk-estimator-id-5\" class=\"sk-toggleable__label sk-toggleable__label-arrow\">LogisticRegression</label><div class=\"sk-toggleable__content\"><pre>LogisticRegression()</pre></div></div></div></div></div>"
      ],
      "text/plain": [
       "LogisticRegression()"
      ]
     },
     "execution_count": 143,
     "metadata": {},
     "output_type": "execute_result"
    }
   ],
   "source": [
    "lr.fit(x_train, y_train)"
   ]
  },
  {
   "cell_type": "code",
   "execution_count": 144,
   "id": "266f3a46",
   "metadata": {},
   "outputs": [
    {
     "data": {
      "text/plain": [
       "array(['Iris-versicolor', 'Iris-versicolor', 'Iris-setosa',\n",
       "       'Iris-virginica', 'Iris-versicolor', 'Iris-virginica',\n",
       "       'Iris-setosa', 'Iris-virginica', 'Iris-virginica', 'Iris-setosa',\n",
       "       'Iris-versicolor', 'Iris-virginica', 'Iris-setosa', 'Iris-setosa',\n",
       "       'Iris-virginica', 'Iris-virginica', 'Iris-virginica',\n",
       "       'Iris-setosa', 'Iris-setosa', 'Iris-versicolor', 'Iris-virginica',\n",
       "       'Iris-versicolor', 'Iris-setosa', 'Iris-virginica',\n",
       "       'Iris-versicolor', 'Iris-setosa', 'Iris-setosa', 'Iris-versicolor',\n",
       "       'Iris-setosa', 'Iris-versicolor', 'Iris-versicolor',\n",
       "       'Iris-versicolor', 'Iris-virginica', 'Iris-versicolor',\n",
       "       'Iris-virginica', 'Iris-versicolor', 'Iris-setosa', 'Iris-setosa'],\n",
       "      dtype=object)"
      ]
     },
     "execution_count": 144,
     "metadata": {},
     "output_type": "execute_result"
    }
   ],
   "source": [
    "res1 = lr.predict(x_test)\n",
    "res1"
   ]
  },
  {
   "cell_type": "code",
   "execution_count": 145,
   "id": "dce17c54",
   "metadata": {},
   "outputs": [
    {
     "data": {
      "text/plain": [
       "0.9473684210526315"
      ]
     },
     "execution_count": 145,
     "metadata": {},
     "output_type": "execute_result"
    }
   ],
   "source": [
    "res1Acc = accuracy_score(y_test, res1)\n",
    "res1Acc"
   ]
  },
  {
   "cell_type": "markdown",
   "id": "378bd023",
   "metadata": {},
   "source": [
    "## NB"
   ]
  },
  {
   "cell_type": "code",
   "execution_count": 146,
   "id": "88ae5743",
   "metadata": {},
   "outputs": [
    {
     "data": {
      "text/html": [
       "<style>#sk-container-id-6 {color: black;background-color: white;}#sk-container-id-6 pre{padding: 0;}#sk-container-id-6 div.sk-toggleable {background-color: white;}#sk-container-id-6 label.sk-toggleable__label {cursor: pointer;display: block;width: 100%;margin-bottom: 0;padding: 0.3em;box-sizing: border-box;text-align: center;}#sk-container-id-6 label.sk-toggleable__label-arrow:before {content: \"▸\";float: left;margin-right: 0.25em;color: #696969;}#sk-container-id-6 label.sk-toggleable__label-arrow:hover:before {color: black;}#sk-container-id-6 div.sk-estimator:hover label.sk-toggleable__label-arrow:before {color: black;}#sk-container-id-6 div.sk-toggleable__content {max-height: 0;max-width: 0;overflow: hidden;text-align: left;background-color: #f0f8ff;}#sk-container-id-6 div.sk-toggleable__content pre {margin: 0.2em;color: black;border-radius: 0.25em;background-color: #f0f8ff;}#sk-container-id-6 input.sk-toggleable__control:checked~div.sk-toggleable__content {max-height: 200px;max-width: 100%;overflow: auto;}#sk-container-id-6 input.sk-toggleable__control:checked~label.sk-toggleable__label-arrow:before {content: \"▾\";}#sk-container-id-6 div.sk-estimator input.sk-toggleable__control:checked~label.sk-toggleable__label {background-color: #d4ebff;}#sk-container-id-6 div.sk-label input.sk-toggleable__control:checked~label.sk-toggleable__label {background-color: #d4ebff;}#sk-container-id-6 input.sk-hidden--visually {border: 0;clip: rect(1px 1px 1px 1px);clip: rect(1px, 1px, 1px, 1px);height: 1px;margin: -1px;overflow: hidden;padding: 0;position: absolute;width: 1px;}#sk-container-id-6 div.sk-estimator {font-family: monospace;background-color: #f0f8ff;border: 1px dotted black;border-radius: 0.25em;box-sizing: border-box;margin-bottom: 0.5em;}#sk-container-id-6 div.sk-estimator:hover {background-color: #d4ebff;}#sk-container-id-6 div.sk-parallel-item::after {content: \"\";width: 100%;border-bottom: 1px solid gray;flex-grow: 1;}#sk-container-id-6 div.sk-label:hover label.sk-toggleable__label {background-color: #d4ebff;}#sk-container-id-6 div.sk-serial::before {content: \"\";position: absolute;border-left: 1px solid gray;box-sizing: border-box;top: 0;bottom: 0;left: 50%;z-index: 0;}#sk-container-id-6 div.sk-serial {display: flex;flex-direction: column;align-items: center;background-color: white;padding-right: 0.2em;padding-left: 0.2em;position: relative;}#sk-container-id-6 div.sk-item {position: relative;z-index: 1;}#sk-container-id-6 div.sk-parallel {display: flex;align-items: stretch;justify-content: center;background-color: white;position: relative;}#sk-container-id-6 div.sk-item::before, #sk-container-id-6 div.sk-parallel-item::before {content: \"\";position: absolute;border-left: 1px solid gray;box-sizing: border-box;top: 0;bottom: 0;left: 50%;z-index: -1;}#sk-container-id-6 div.sk-parallel-item {display: flex;flex-direction: column;z-index: 1;position: relative;background-color: white;}#sk-container-id-6 div.sk-parallel-item:first-child::after {align-self: flex-end;width: 50%;}#sk-container-id-6 div.sk-parallel-item:last-child::after {align-self: flex-start;width: 50%;}#sk-container-id-6 div.sk-parallel-item:only-child::after {width: 0;}#sk-container-id-6 div.sk-dashed-wrapped {border: 1px dashed gray;margin: 0 0.4em 0.5em 0.4em;box-sizing: border-box;padding-bottom: 0.4em;background-color: white;}#sk-container-id-6 div.sk-label label {font-family: monospace;font-weight: bold;display: inline-block;line-height: 1.2em;}#sk-container-id-6 div.sk-label-container {text-align: center;}#sk-container-id-6 div.sk-container {/* jupyter's `normalize.less` sets `[hidden] { display: none; }` but bootstrap.min.css set `[hidden] { display: none !important; }` so we also need the `!important` here to be able to override the default hidden behavior on the sphinx rendered scikit-learn.org. See: https://github.com/scikit-learn/scikit-learn/issues/21755 */display: inline-block !important;position: relative;}#sk-container-id-6 div.sk-text-repr-fallback {display: none;}</style><div id=\"sk-container-id-6\" class=\"sk-top-container\"><div class=\"sk-text-repr-fallback\"><pre>GaussianNB()</pre><b>In a Jupyter environment, please rerun this cell to show the HTML representation or trust the notebook. <br />On GitHub, the HTML representation is unable to render, please try loading this page with nbviewer.org.</b></div><div class=\"sk-container\" hidden><div class=\"sk-item\"><div class=\"sk-estimator sk-toggleable\"><input class=\"sk-toggleable__control sk-hidden--visually\" id=\"sk-estimator-id-6\" type=\"checkbox\" checked><label for=\"sk-estimator-id-6\" class=\"sk-toggleable__label sk-toggleable__label-arrow\">GaussianNB</label><div class=\"sk-toggleable__content\"><pre>GaussianNB()</pre></div></div></div></div></div>"
      ],
      "text/plain": [
       "GaussianNB()"
      ]
     },
     "execution_count": 146,
     "metadata": {},
     "output_type": "execute_result"
    }
   ],
   "source": [
    "nvb=MultinomialNB()\n",
    "nvb.fit(x_train,y_train)\n",
    "\n",
    "nvbg=GaussianNB()\n",
    "nvbg.fit(x_train,y_train)"
   ]
  },
  {
   "cell_type": "code",
   "execution_count": 147,
   "id": "8fc04012",
   "metadata": {},
   "outputs": [],
   "source": [
    "res2=nvb.predict(x_test)\n",
    "res3=nvbg.predict(x_test)"
   ]
  },
  {
   "cell_type": "code",
   "execution_count": 148,
   "id": "977244a9",
   "metadata": {},
   "outputs": [],
   "source": [
    "res2Acc=accuracy_score(y_test, res2)\n",
    "res3Acc=accuracy_score(y_test, res3)"
   ]
  },
  {
   "cell_type": "markdown",
   "id": "335c7e30",
   "metadata": {},
   "source": [
    "## accurecy"
   ]
  },
  {
   "cell_type": "code",
   "execution_count": 149,
   "id": "c8d422a9",
   "metadata": {},
   "outputs": [
    {
     "name": "stdout",
     "output_type": "stream",
     "text": [
      "R  : 0.9473684210526315\n",
      "MNB: 0.7894736842105263\n",
      "GNB: 0.9473684210526315\n"
     ]
    }
   ],
   "source": [
    "print(\"R  : \" + str(res1Acc))\n",
    "print(\"MNB: \" + str(res2Acc))\n",
    "print(\"GNB: \" + str(res3Acc))"
   ]
  },
  {
   "cell_type": "code",
   "execution_count": null,
   "id": "d265d68c",
   "metadata": {},
   "outputs": [],
   "source": []
  }
 ],
 "metadata": {
  "kernelspec": {
   "display_name": "Python 3 (ipykernel)",
   "language": "python",
   "name": "python3"
  },
  "language_info": {
   "codemirror_mode": {
    "name": "ipython",
    "version": 3
   },
   "file_extension": ".py",
   "mimetype": "text/x-python",
   "name": "python",
   "nbconvert_exporter": "python",
   "pygments_lexer": "ipython3",
   "version": "3.10.6"
  }
 },
 "nbformat": 4,
 "nbformat_minor": 5
}
